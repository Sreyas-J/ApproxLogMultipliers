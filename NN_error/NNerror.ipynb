{
 "cells": [
  {
   "cell_type": "code",
   "execution_count": 28,
   "metadata": {},
   "outputs": [],
   "source": [
    "import pandas as pd\n",
    "import numpy as np"
   ]
  },
  {
   "cell_type": "code",
   "execution_count": 29,
   "metadata": {},
   "outputs": [],
   "source": [
    "def AE(exact,approx):\n",
    "    error=abs(exact-approx)\n",
    "    return error,error.sum()/error.size"
   ]
  },
  {
   "cell_type": "code",
   "execution_count": 30,
   "metadata": {},
   "outputs": [],
   "source": [
    "def MRED(exact,error):\n",
    "    relError=abs(error/exact)\n",
    "    # print(\"Error: \",error,\"Exact: \",exact)\n",
    "    return relError.sum()/error.size"
   ]
  },
  {
   "cell_type": "code",
   "execution_count": 31,
   "metadata": {},
   "outputs": [],
   "source": [
    "def NMED(AE,maxE):\n",
    "    return AE/maxE"
   ]
  },
  {
   "cell_type": "code",
   "execution_count": 32,
   "metadata": {},
   "outputs": [],
   "source": [
    "def reports(mul,exact,approx):\n",
    "    error,ilm_AE=AE(exact,approx)\n",
    "    ilm_MRED=MRED(exact,error)\n",
    "    ilm_NMED=NMED(ilm_AE,max(abs(error)))\n",
    "\n",
    "    print(mul,\" \",ilm_AE,ilm_MRED,ilm_NMED) "
   ]
  },
  {
   "cell_type": "code",
   "execution_count": 33,
   "metadata": {},
   "outputs": [],
   "source": [
    "ILM0_df=pd.read_csv(\"ILM_0.csv\")\n",
    "# ILM5_df=pd.read_csv(\"ILM_5.csv\")\n",
    "# ILM9_df=pd.read_csv(\"ILM_9.csv\")\n",
    "ALM3_df=pd.read_csv(\"ALM.csv\")\n",
    "# ALM5_df=pd.read_csv(\"ALM_SOA_5.csv\")\n",
    "mitchell_df=pd.read_csv(\"Mitchell.csv\")"
   ]
  },
  {
   "cell_type": "code",
   "execution_count": 34,
   "metadata": {},
   "outputs": [],
   "source": [
    "exact=ILM0_df[\"Exact Output\"].to_numpy()\n",
    "\n",
    "ilm0=ILM0_df[\"Approx Output\"].to_numpy()\n",
    "# ilm5=ILM5_df[\"Approx Output\"].to_numpy()\n",
    "# ilm9=ILM9_df[\"Approx Output\"].to_numpy()\n",
    "alm3=ALM3_df[\"Approx Output\"].to_numpy()\n",
    "# alm5=ALM5_df[\"Approx Output\"].to_numpy()\n",
    "mitchell=mitchell_df[\"Approx Output\"].to_numpy()"
   ]
  },
  {
   "cell_type": "code",
   "execution_count": 35,
   "metadata": {},
   "outputs": [
    {
     "name": "stdout",
     "output_type": "stream",
     "text": [
      "ILM0   0.11776723462785996 0.08702827217603726 0.2563910774703855\n",
      "ALM3   0.752646589961951 0.4803335112834163 0.3354675295120651\n",
      "Mitchell   7.160210460392108 3.627318483215557 0.36192692180007063\n"
     ]
    }
   ],
   "source": [
    "# error,ilm_AE=AE(exact,ilm)\n",
    "# ilm_MRED=MRED(exact,error)\n",
    "# ilm_NMED=NMED(ilm_AE,max(abs(error)))\n",
    "\n",
    "# print(ilm_AE,ilm_MRED,ilm_NMED)\n",
    "reports(\"ILM0\",exact,ilm0)\n",
    "# reports(\"ILM5\",exact,ilm5)\n",
    "# reports(\"ILM9\",exact,ilm9)\n",
    "reports(\"ALM3\",exact,alm3)\n",
    "# reports(\"ALM5\",exact,alm5)\n",
    "reports(\"Mitchell\",exact,mitchell)"
   ]
  },
  {
   "cell_type": "code",
   "execution_count": null,
   "metadata": {},
   "outputs": [],
   "source": []
  }
 ],
 "metadata": {
  "kernelspec": {
   "display_name": "base",
   "language": "python",
   "name": "python3"
  },
  "language_info": {
   "codemirror_mode": {
    "name": "ipython",
    "version": 3
   },
   "file_extension": ".py",
   "mimetype": "text/x-python",
   "name": "python",
   "nbconvert_exporter": "python",
   "pygments_lexer": "ipython3",
   "version": "3.12.2"
  }
 },
 "nbformat": 4,
 "nbformat_minor": 2
}
